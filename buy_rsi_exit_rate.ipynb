{
 "cells": [
  {
   "cell_type": "code",
   "execution_count": 84,
   "id": "8f8f9b22",
   "metadata": {},
   "outputs": [],
   "source": [
    "import requests\n",
    "from datetime import timezone, timedelta\n",
    "import pandas as pd\n",
    "import numpy as np"
   ]
  },
  {
   "cell_type": "code",
   "execution_count": 55,
   "id": "16f13a11",
   "metadata": {},
   "outputs": [],
   "source": [
    "# we want to get a day's worth of BTC data from coingecko at a specified interval\n",
    "\n",
    "CURRENCY = 'btc'\n",
    "\n",
    "# use pre-acquired coin id data\n",
    "ids = pd.read_csv(\"cg_coin_ids.csv\")\n",
    "coin_id = ids[ids['symbol'] == CURRENCY]['id'].values[0]\n",
    "\n",
    "res = requests.get(f'https://api.coingecko.com/api/v3/coins/{coin_id}/market_chart?vs_currency=usd&days=1')\n",
    "res.raise_for_status()\n",
    "\n",
    "coin_data = res.json()\n",
    "unzipped = list(zip(*coin_data['prices']))\n",
    "prices_raw = pd.DataFrame({'ms_datetime': unzipped[0], 'price': unzipped[1]})"
   ]
  },
  {
   "cell_type": "code",
   "execution_count": 119,
   "id": "fec43361",
   "metadata": {},
   "outputs": [],
   "source": [
    "# format dataset time\n",
    "prices_raw['date_time'] = pd.to_datetime(prices_raw['ms_datetime'], unit='ms', utc=True)\n",
    "prices = prices_raw[['date_time', 'price']].copy()\n",
    "prices['local_dt'] = prices['date_time'].dt.tz_convert(timezone(-timedelta(hours=6))).dt.tz_convert(None)\n",
    "prices = prices.sort_values(by='local_dt')[['local_dt', 'price']]\n",
    "\n",
    "# add 15-minute intervals\n",
    "prices['fifteen_min'] = np.tile(range(1, 4), prices.shape[0]//3 + 1)[:prices.shape[0]]\n",
    "prices['fifteen_min'] = prices['fifteen_min'] == 1\n",
    "m15 = prices[prices['fifteen_min']].reset_index(drop=True)\n",
    "\n",
    "# add rsi"
   ]
  },
  {
   "cell_type": "code",
   "execution_count": 121,
   "id": "454c098d",
   "metadata": {},
   "outputs": [],
   "source": [
    "m15 = m15[['local_dt', 'price']]"
   ]
  }
 ],
 "metadata": {
  "kernelspec": {
   "display_name": "Python 3 (ipykernel)",
   "language": "python",
   "name": "python3"
  },
  "language_info": {
   "codemirror_mode": {
    "name": "ipython",
    "version": 3
   },
   "file_extension": ".py",
   "mimetype": "text/x-python",
   "name": "python",
   "nbconvert_exporter": "python",
   "pygments_lexer": "ipython3",
   "version": "3.10.2"
  }
 },
 "nbformat": 4,
 "nbformat_minor": 5
}
