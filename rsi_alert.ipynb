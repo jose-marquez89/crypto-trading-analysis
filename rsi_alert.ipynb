{
 "cells": [
  {
   "cell_type": "code",
   "execution_count": 8,
   "id": "decfd692",
   "metadata": {},
   "outputs": [],
   "source": [
    "import requests\n",
    "import pandas as pd\n",
    "import numpy as np\n",
    "import time\n",
    "import smtplib\n",
    "import os\n",
    "import ssl\n",
    "from email.message import EmailMessage\n",
    "from dotenv import load_dotenv"
   ]
  },
  {
   "cell_type": "code",
   "execution_count": 9,
   "id": "1cd87af3",
   "metadata": {},
   "outputs": [],
   "source": [
    "# env\n",
    "load_dotenv()\n",
    "\n",
    "SERVER = os.environ['SERVER']\n",
    "PORT = int(os.environ['PORT'])\n",
    "TO = os.environ['TO']\n",
    "FROM = os.environ['FROM']\n",
    "PASSWORD = os.environ['PASSWORD']"
   ]
  },
  {
   "cell_type": "code",
   "execution_count": 10,
   "id": "b1ab7ecd",
   "metadata": {},
   "outputs": [],
   "source": [
    "def get_rsi_rate(coin_id, ticker):\n",
    "    res = requests.get(f'https://api.coingecko.com/api/v3/coins/{coin_id}/market_chart?vs_currency=usd&days=1')\n",
    "    res.raise_for_status()\n",
    "\n",
    "    coin_data = res.json()\n",
    "    unzipped = list(zip(*coin_data['prices']))\n",
    "    df = pd.DataFrame({'ms_datetime': unzipped[0], 'price': unzipped[1]})\n",
    "    \n",
    "    # format dataset time\n",
    "    df['date_time'] = pd.to_datetime(df['ms_datetime'], unit='ms', utc=True)\n",
    "    df = df[['date_time', 'price']].copy()\n",
    "    df = df.sort_values(by='date_time')[['date_time', 'price']]\n",
    "\n",
    "    # cut down to 15-minute intervals\n",
    "    df['fifteen_min'] = np.tile(range(1, 4), df.shape[0]//3 + 1)[:df.shape[0]]\n",
    "    df['fifteen_min'] = df['fifteen_min'] == 1\n",
    "    df = df[df['fifteen_min']].reset_index(drop=True)\n",
    "    df = df[['date_time', 'price']]\n",
    "    \n",
    "    # add rsi\n",
    "    rsi_periods = 14\n",
    "    df['price_change'] = df['price'].diff()\n",
    "    df['pos_pc'] = df['price_change'].apply(lambda x: x if x > 0 else 0)\n",
    "    df['neg_pc'] = df['price_change'].apply(lambda x: abs(x) if x < 0 else 0)\n",
    "\n",
    "    df['avg_gain'] = df['pos_pc'].rolling(rsi_periods).mean()\n",
    "    df['avg_loss'] = df['neg_pc'].rolling(rsi_periods).mean()\n",
    "    df['rs'] = df['avg_gain'] / df['avg_loss']\n",
    "    df['rsi'] = 100 - (100 / (1 + df['rs']))\n",
    "    \n",
    "    df = df.tail(14)[['date_time', 'rsi']]\n",
    "    \n",
    "    current_rsi = df['rsi'].iloc[-1]\n",
    "    first_rsi = df['rsi'].iloc[0]\n",
    "    rate = current_rsi / first_rsi - 1\n",
    "    \n",
    "    return (ticker, rate, current_rsi)"
   ]
  },
  {
   "cell_type": "code",
   "execution_count": 11,
   "id": "7fd02674",
   "metadata": {},
   "outputs": [],
   "source": [
    "reference = pd.read_csv('target_cb_coins.csv')\n",
    "ids = reference[['base', 'coin_id']].values\n",
    "data = []\n",
    "\n",
    "for tck, cid in ids:\n",
    "    if tck == 'USDT':\n",
    "        continue\n",
    "    time.sleep(8)\n",
    "    data.append(get_rsi_rate(cid, tck))\n",
    "\n",
    "rates = pd.DataFrame(data, columns=['ticker', 'rsi_rate', 'current_rsi'])"
   ]
  },
  {
   "cell_type": "code",
   "execution_count": 12,
   "id": "a2349e38",
   "metadata": {},
   "outputs": [],
   "source": [
    "target_tickers = rates[(rates['rsi_rate'] < -0.20) & (rates['current_rsi'] <= 40)]\n",
    "target_tickers = target_tickers.sort_values(by='rsi_rate')"
   ]
  },
  {
   "cell_type": "code",
   "execution_count": 13,
   "id": "e38396e9",
   "metadata": {},
   "outputs": [],
   "source": [
    "# send email\n",
    "if target_tickers.shape[0] > 0:\n",
    "    with open('outgoing.txt', 'w') as content:\n",
    "        content.write(\"Current low RSI Coins:\\n\\n\")\n",
    "        content.write(target_tickers.to_string())\n",
    "\n",
    "    with open('outgoing.txt', 'r') as email_out:\n",
    "        msg = EmailMessage()\n",
    "        msg.set_content(email_out.read())\n",
    "\n",
    "    msg['Subject'] = f'Low RSI Alert'\n",
    "    msg['From'] = FROM\n",
    "    msg['To'] = TO\n",
    "    \n",
    "    server = smtplib.SMTP(SERVER, PORT)\n",
    "    server.ehlo()\n",
    "    server.starttls()\n",
    "    server.ehlo()\n",
    "    server.login(FROM, PASSWORD)\n",
    "    server.send_message(msg)\n",
    "    server.quit()"
   ]
  }
 ],
 "metadata": {
  "kernelspec": {
   "display_name": "Python 3 (ipykernel)",
   "language": "python",
   "name": "python3"
  },
  "language_info": {
   "codemirror_mode": {
    "name": "ipython",
    "version": 3
   },
   "file_extension": ".py",
   "mimetype": "text/x-python",
   "name": "python",
   "nbconvert_exporter": "python",
   "pygments_lexer": "ipython3",
   "version": "3.10.2"
  }
 },
 "nbformat": 4,
 "nbformat_minor": 5
}
